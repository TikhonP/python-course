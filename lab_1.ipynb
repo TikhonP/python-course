{
 "cells": [
  {
   "cell_type": "markdown",
   "id": "bf4db1c8",
   "metadata": {},
   "source": [
    "# Первый урок - знакомство с Python и Jupyter Notebook\n",
    "\n",
    "Итак, вы попали сюда. В jupyter notebook можно делать кучу волшебных вещей.\n",
    "\n",
    "Вся тетрадка разделена на блоки, например, этот блок с форматированным `markdown` текстом. \n",
    "\n",
    "А вот снизу блок с кодом:"
   ]
  },
  {
   "cell_type": "code",
   "execution_count": 1,
   "id": "ea266e70",
   "metadata": {},
   "outputs": [
    {
     "name": "stdout",
     "output_type": "stream",
     "text": [
      "Hello, world!\n"
     ]
    }
   ],
   "source": [
    "print(\"Hello, world!\")"
   ]
  },
  {
   "cell_type": "markdown",
   "id": "db857994",
   "metadata": {},
   "source": [
    "Выдели эту ячеку выше и нажми `Run` или сочетание клавиш `shift + enter`"
   ]
  },
  {
   "cell_type": "markdown",
   "id": "067c9b00",
   "metadata": {},
   "source": [
    "Как вы поняли код можно запускать прямо из этой тетрадки, но это еще не все, например здесь можно выполнять код командной строки (так же выделите ячейку ниже и нажмите `shift + enter`:"
   ]
  },
  {
   "cell_type": "code",
   "execution_count": 2,
   "id": "d00987e2",
   "metadata": {},
   "outputs": [
    {
     "name": "stdout",
     "output_type": "stream",
     "text": [
      "tikhon\r\n"
     ]
    }
   ],
   "source": [
    "!whoami"
   ]
  },
  {
   "cell_type": "markdown",
   "id": "b718343b",
   "metadata": {},
   "source": [
    "Круто же!\n",
    "\n",
    "Итак, давайте посмотрим, что такое язык `python`. Это объектно ориентированный язык программирования, это значит, что вообще у все-все здесь объекты, у которых есть свойства и методы. \n",
    "\n",
    "Посмотрим на строчку, которую мы писали выше:\n",
    "\n",
    "```python\n",
    "print(\"Hello, world!\")\n",
    "```\n",
    "\n",
    "Здесь `print` - это тоже объект, встроенный в python, точнее это объект-функция (callable), то есть его можно вызвать, выполнить.\n",
    "\n",
    "Чтобы вызвать функцию, нужно к ее имени приписать две скобки, давайте попробуем (опять выделяем ячейку ниже и нажимаем `shift + enter`:"
   ]
  },
  {
   "cell_type": "code",
   "execution_count": 3,
   "id": "a4271d53",
   "metadata": {},
   "outputs": [
    {
     "name": "stdout",
     "output_type": "stream",
     "text": [
      "\n"
     ]
    }
   ],
   "source": [
    "print()"
   ]
  },
  {
   "cell_type": "markdown",
   "id": "147cdade",
   "metadata": {},
   "source": [
    "Сработало! Но ничего, не произошло...\n",
    "\n",
    "Это все потому, что функция не знает что ей делать. Чтобы мы могли указать, что делать функции существуют аргументы, которые передаются внутри скобок.\n",
    "\n",
    "Например, у функции `print()` одним из аргументов является текст, который нужно напечатать. Этот текст это тоже объект: `\"Hello, world!\"` - объект типа строка (`str`), который мы передаем, в функцию. \n",
    "\n",
    "Можно написать все, что угодно, попробуйте поизменять текст и посмотреть, что произойдет. И да, ячейку можно запускать много раз:"
   ]
  },
  {
   "cell_type": "code",
   "execution_count": 4,
   "id": "0814f367",
   "metadata": {},
   "outputs": [
    {
     "name": "stdout",
     "output_type": "stream",
     "text": [
      "напишите cюда все, что хотите\n"
     ]
    }
   ],
   "source": [
    "print(\"напишите cюда все, что хотите\")"
   ]
  },
  {
   "cell_type": "markdown",
   "id": "8c3e99e1",
   "metadata": {},
   "source": [
    "Отлично, но нам приходится постоянно изменять текст прямо в коде, а если захочется чтобы можно было потом изменить текст, не меняя код вызова функции?..\n",
    "\n",
    "Для этого существуют переменные. Переменная - это такой объект, который может хранить другие объекты. Смотрите, это просто:"
   ]
  },
  {
   "cell_type": "code",
   "execution_count": 5,
   "id": "d3c98903",
   "metadata": {},
   "outputs": [],
   "source": [
    "text = \"hello, world!\""
   ]
  },
  {
   "cell_type": "markdown",
   "id": "5aefd6c5",
   "metadata": {},
   "source": [
    "Мы только, что создали переменную с именем `text`, которая содержит объект `\"Hello, world!\"`\n",
    "\n",
    "Теперь можно сделать, так:"
   ]
  },
  {
   "cell_type": "code",
   "execution_count": 6,
   "id": "f67fae9f",
   "metadata": {},
   "outputs": [
    {
     "ename": "NameError",
     "evalue": "name 'text' is not defined",
     "output_type": "error",
     "traceback": [
      "\u001b[0;31m---------------------------------------------------------------------------\u001b[0m",
      "\u001b[0;31mNameError\u001b[0m                                 Traceback (most recent call last)",
      "\u001b[0;32m/var/folders/q4/pvl2rps17ds60wz8w734vwk00000gn/T/ipykernel_3677/2214528614.py\u001b[0m in \u001b[0;36m<module>\u001b[0;34m\u001b[0m\n\u001b[0;32m----> 1\u001b[0;31m \u001b[0mprint\u001b[0m\u001b[0;34m(\u001b[0m\u001b[0mtext\u001b[0m\u001b[0;34m)\u001b[0m\u001b[0;34m\u001b[0m\u001b[0;34m\u001b[0m\u001b[0m\n\u001b[0m",
      "\u001b[0;31mNameError\u001b[0m: name 'text' is not defined"
     ]
    }
   ],
   "source": [
    "print(text)"
   ]
  },
  {
   "cell_type": "code",
   "execution_count": null,
   "id": "0553db2d",
   "metadata": {},
   "outputs": [],
   "source": []
  }
 ],
 "metadata": {
  "kernelspec": {
   "display_name": "Python 3 (ipykernel)",
   "language": "python",
   "name": "python3"
  },
  "language_info": {
   "codemirror_mode": {
    "name": "ipython",
    "version": 3
   },
   "file_extension": ".py",
   "mimetype": "text/x-python",
   "name": "python",
   "nbconvert_exporter": "python",
   "pygments_lexer": "ipython3",
   "version": "3.8.10"
  }
 },
 "nbformat": 4,
 "nbformat_minor": 5
}
