{
 "cells": [
  {
   "cell_type": "markdown",
   "id": "bf4db1c8",
   "metadata": {},
   "source": [
    "# Первый урок - знакомство с Python и Jupyter Notebook\n",
    "\n",
    "Итак, вы попали сюда. В jupyter notebook можно делать кучу волшебных вещей.\n",
    "\n",
    "Вся тетрадка разделена на блоки, например, этот блок с форматированным `markdown` текстом. \n",
    "\n",
    "А вот снизу блок с кодом:"
   ]
  },
  {
   "cell_type": "code",
   "execution_count": null,
   "id": "ea266e70",
   "metadata": {},
   "outputs": [],
   "source": [
    "print(\"Hello, world!\")"
   ]
  },
  {
   "cell_type": "markdown",
   "id": "db857994",
   "metadata": {},
   "source": [
    "Выдели эту ячеку выше и нажми `Run` или сочетание клавиш `shift + enter`"
   ]
  },
  {
   "cell_type": "markdown",
   "id": "067c9b00",
   "metadata": {},
   "source": [
    "Как вы поняли код можно запускать прямо из этой тетрадки, но это еще не все, например здесь можно выполнять код командной строки (так же выделите ячейку ниже и нажмите `shift + enter`:"
   ]
  },
  {
   "cell_type": "code",
   "execution_count": null,
   "id": "d00987e2",
   "metadata": {},
   "outputs": [],
   "source": [
    "!whoami"
   ]
  },
  {
   "cell_type": "markdown",
   "id": "b718343b",
   "metadata": {},
   "source": [
    "Круто же!\n",
    "\n",
    "Итак, давайте посмотрим, что такое язык `python`. Это объектно ориентированный язык программирования, это значит, что вообще у все-все здесь объекты, у которых есть свойства и методы. \n",
    "\n",
    "Посмотрим на строчку, которую мы писали выше:\n",
    "\n",
    "```python\n",
    "print(\"Hello, world!\")\n",
    "```\n",
    "\n",
    "Здесь `print` - это тоже объект, встроенный в python, точнее это объект-функция (callable), то есть его можно вызвать, выполнить.\n",
    "\n",
    "Чтобы вызвать функцию, нужно к ее имени приписать две скобки, давайте попробуем (опять выделяем ячейку ниже и нажимаем `shift + enter`:"
   ]
  },
  {
   "cell_type": "code",
   "execution_count": null,
   "id": "a4271d53",
   "metadata": {},
   "outputs": [],
   "source": [
    "print()"
   ]
  },
  {
   "cell_type": "markdown",
   "id": "147cdade",
   "metadata": {},
   "source": [
    "Сработало! Но ничего, не произошло...\n",
    "\n",
    "Это все потому, что функция не знает что ей делать. Чтобы мы могли указать, что делать функции существуют аргументы, которые передаются внутри скобок.\n",
    "\n",
    "Например, у функции `print()` одним из аргументов является текст, который нужно напечатать. Этот текст это тоже объект: `\"Hello, world!\"` - объект типа строка (`str`), который мы передаем, в функцию. \n",
    "\n",
    "Можно написать все, что угодно, попробуйте поизменять текст и посмотреть, что произойдет. И да, ячейку можно запускать много раз:"
   ]
  },
  {
   "cell_type": "code",
   "execution_count": null,
   "id": "0814f367",
   "metadata": {},
   "outputs": [],
   "source": [
    "print(\"напишите cюда все, что хотите\")"
   ]
  },
  {
   "cell_type": "markdown",
   "id": "8c3e99e1",
   "metadata": {},
   "source": [
    "Отлично, но нам приходится постоянно изменять текст прямо в коде, а если захочется чтобы можно было потом изменить текст, не меняя код вызова функции?..\n",
    "\n",
    "Для этого существуют переменные. Переменная - это такой объект, который может хранить другие объекты. Смотрите, это просто:"
   ]
  },
  {
   "cell_type": "code",
   "execution_count": null,
   "id": "d3c98903",
   "metadata": {},
   "outputs": [],
   "source": [
    "text = \"hello, world!\""
   ]
  },
  {
   "cell_type": "markdown",
   "id": "5aefd6c5",
   "metadata": {},
   "source": [
    "Мы только, что создали переменную с именем `text`, которая содержит объект `\"Hello, world!\"`\n",
    "\n",
    "Теперь можно сделать, так:"
   ]
  },
  {
   "cell_type": "code",
   "execution_count": null,
   "id": "f67fae9f",
   "metadata": {},
   "outputs": [],
   "source": [
    "print(text)"
   ]
  },
  {
   "cell_type": "markdown",
   "id": "31737f54",
   "metadata": {},
   "source": [
    "Попробуем изменить переменную"
   ]
  },
  {
   "cell_type": "code",
   "execution_count": null,
   "id": "95f9caf2",
   "metadata": {},
   "outputs": [],
   "source": [
    "text = \"another text\""
   ]
  },
  {
   "cell_type": "code",
   "execution_count": null,
   "id": "f553c92a",
   "metadata": {},
   "outputs": [],
   "source": [
    "print(text)"
   ]
  },
  {
   "cell_type": "markdown",
   "id": "6c708c0f",
   "metadata": {},
   "source": [
    "# Типы данных\n",
    "\n",
    "В процессе изучения мы столкнулись с одним типом данных - строка. Однако очень часто возникает необходимость сохранить и другие данные, например целые числа, дробные числа, иногда нужно объеденить несколько строк или числел в список, или даже список с имнем каждого элемента - словарь. Это все вы узнаете позже, а сейчас рассмотрим бпзовые числовые типы данных - `int` и `float`. Кстати почитать больше про типы данных в python можно в [официальной документации](https://docs.python.org/3/library/stdtypes.html). \n",
    "\n",
    "### Целые числа - `int`\n",
    "\n",
    "Чтобы записать в переменную объект типа целое число (`integer`) нужно просто написать цифру :) Вот так:\n",
    "\n",
    "```python\n",
    "var = 3\n",
    "```\n",
    "\n",
    "### Числа с плавающей точкой или десятичные дроби - `float`\n",
    "\n",
    "Здесь работает так же как и с целыми числами, но только надо поставить точку для отделения дробной части\n",
    "\n",
    "```python\n",
    "var = 5.7\n",
    "```\n",
    "\n",
    "В python есть специальная функция, помогающая определить тип данных - `type()`, которая принимает объект:"
   ]
  },
  {
   "cell_type": "code",
   "execution_count": null,
   "id": "66c4b196",
   "metadata": {},
   "outputs": [],
   "source": [
    "print(\"Тип обычного числа `3`: \", type(3))\n",
    "print(\"Тип дессятичной дроби `3.7`: \", type(3.7))\n",
    "print(\"Тип этой строки: \", type(\"Тип этой строки: \"))"
   ]
  },
  {
   "cell_type": "markdown",
   "id": "d0aacafb",
   "metadata": {},
   "source": [
    "Все эти значения можно присваивать переменным и можно проверять его тип:"
   ]
  },
  {
   "cell_type": "code",
   "execution_count": null,
   "id": "283250a0",
   "metadata": {},
   "outputs": [],
   "source": [
    "var = \"привет\"\n",
    "print(\"Тип переменной `var`: \", type(var), \" значение: \", repr(var))\n",
    "var = 3\n",
    "print(\"Тип переменной `var`: \", type(var), \" значение: \", var)\n",
    "var = 4.5\n",
    "print(\"Тип переменной `var`: \", type(var), \" значение: \", var)"
   ]
  },
  {
   "cell_type": "code",
   "execution_count": null,
   "id": "bf1d170f",
   "metadata": {},
   "outputs": [],
   "source": []
  }
 ],
 "metadata": {
  "kernelspec": {
   "display_name": "Python 3 (ipykernel)",
   "language": "python",
   "name": "python3"
  },
  "language_info": {
   "codemirror_mode": {
    "name": "ipython",
    "version": 3
   },
   "file_extension": ".py",
   "mimetype": "text/x-python",
   "name": "python",
   "nbconvert_exporter": "python",
   "pygments_lexer": "ipython3",
   "version": "3.8.11"
  }
 },
 "nbformat": 4,
 "nbformat_minor": 5
}
